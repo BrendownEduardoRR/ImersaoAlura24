{
  "nbformat": 4,
  "nbformat_minor": 0,
  "metadata": {
    "colab": {
      "provenance": []
    },
    "kernelspec": {
      "name": "python3",
      "display_name": "Python 3"
    },
    "language_info": {
      "name": "python"
    }
  },
  "cells": [
    {
      "cell_type": "code",
      "execution_count": 7,
      "metadata": {
        "colab": {
          "base_uri": "https://localhost:8080/"
        },
        "id": "TeNFpGOuQCf1",
        "outputId": "b5dea266-ab1b-4395-db8d-59307afa7fc4"
      },
      "outputs": [
        {
          "output_type": "execute_result",
          "data": {
            "text/plain": [
              "43"
            ]
          },
          "metadata": {},
          "execution_count": 7
        }
      ],
      "source": [
        "import requests\n",
        "\n",
        "url = \"https://raw.githubusercontent.com/guilhermeonrails/api-imersao-ia/main/words.json\"\n",
        "resposta = requests.get(url)\n",
        "data = resposta.json()\n",
        "len(data)"
      ]
    },
    {
      "cell_type": "code",
      "source": [
        "data[0]"
      ],
      "metadata": {
        "colab": {
          "base_uri": "https://localhost:8080/"
        },
        "id": "2I8TdlN5RhAy",
        "outputId": "4fe316e6-9031-4af5-f9d1-b8bf24d1b52d"
      },
      "execution_count": 12,
      "outputs": [
        {
          "output_type": "execute_result",
          "data": {
            "text/plain": [
              "{'palavra': 'python',\n",
              " 'dica': 'automatizar tarefas e desenvolver aplicações web.'}"
            ]
          },
          "metadata": {},
          "execution_count": 12
        }
      ]
    },
    {
      "cell_type": "code",
      "source": [
        "import requests\n",
        "import random\n",
        "\n",
        "url = 'https://raw.githubusercontent.com/guilhermeonrails/api-imersao-ia/main/words.json'\n",
        "resposta = requests.get(url)\n",
        "data = resposta.json()\n",
        "print(data)\n",
        "\n",
        "valor_secreto = random.choice(data)\n",
        "palavra_secreta = valor_secreto['palavra']\n",
        "dica = valor_secreto['dica']\n",
        "\n",
        "print(f'A palavra secreta tem {len(palavra_secreta)} letras -> {dica}')\n",
        "chute = input(f'A dica é -> {dica}')\n",
        "if chute == palavra_secreta:\n",
        "  print('Acertou')\n",
        "else:\n",
        "  print(f'Errou.. a palavra secreta era {palavra_secreta}')"
      ],
      "metadata": {
        "colab": {
          "base_uri": "https://localhost:8080/"
        },
        "id": "WnHW3796TEAi",
        "outputId": "cffb2deb-4689-4876-e1ab-8d4da3cf0b61"
      },
      "execution_count": 28,
      "outputs": [
        {
          "output_type": "stream",
          "name": "stdout",
          "text": [
            "[{'palavra': 'python', 'dica': 'automatizar tarefas e desenvolver aplicações web.'}, {'palavra': 'javascript', 'dica': 'criar interatividade em páginas web e desenvolver aplicações front-end.'}, {'palavra': 'java', 'dica': 'desenvolver aplicações empresariais e para dispositivos móveis.'}, {'palavra': 'html', 'dica': 'estruturar conteúdo em páginas web.'}, {'palavra': 'css', 'dica': 'estilizar elementos em páginas web.'}, {'palavra': 'sql', 'dica': 'gerenciar e consultar bancos de dados relacionais.'}, {'palavra': 'react', 'dica': 'desenvolver interfaces de usuário reativas e escaláveis.'}, {'palavra': 'angular', 'dica': 'construir aplicativos web spa (single page application) complexos.'}, {'palavra': 'node', 'dica': 'criar aplicativos de servidor escaláveis e de alta performance.'}, {'palavra': 'vue', 'dica': 'desenvolver interfaces de usuário interativas e dinâmicas.'}, {'palavra': 'ruby', 'dica': 'desenvolver aplicações web e scripts de automação.'}, {'palavra': 'php', 'dica': 'construir aplicações web dinâmicas e interativas.'}, {'palavra': 'c++', 'dica': 'desenvolver software de sistema, jogos e aplicações de alto desempenho.'}, {'palavra': 'c#', 'dica': 'desenvolver aplicações windows e jogos utilizando o framework .net.'}, {'palavra': 'swift', 'dica': 'desenvolver aplicativos para dispositivos apple, como iphone e ipad.'}, {'palavra': 'kotlin', 'dica': 'desenvolver aplicativos android modernos e seguros.'}, {'palavra': 'tensorflow', 'dica': 'construir e treinar modelos de aprendizado de máquina.'}, {'palavra': 'pytorch', 'dica': 'desenvolver e treinar modelos de aprendizado profundo.'}, {'palavra': 'mongodb', 'dica': 'armazenar e consultar dados de forma flexível e escalável.'}, {'palavra': 'postgresql', 'dica': 'gerenciar dados estruturados e relacionais com segurança.'}, {'palavra': 'docker', 'dica': 'empacotar, distribuir e executar aplicativos em contêineres.'}, {'palavra': 'kubernetes', 'dica': 'orquestrar e gerenciar contêineres em ambientes de produção.'}, {'palavra': 'git', 'dica': 'controlar e colaborar no desenvolvimento de código-fonte.'}, {'palavra': 'jupyter', 'dica': 'criar e compartilhar documentos que contenham código interativo, visualizações e textos explicativos.'}, {'palavra': 'r', 'dica': 'analisar dados e criar visualizações estatísticas.'}, {'palavra': 'scala', 'dica': 'desenvolver aplicativos escaláveis e concorrentes na jvm.'}, {'palavra': 'hadoop', 'dica': 'armazenar e processar grandes volumes de dados em clusters distribuídos.'}, {'palavra': 'spark', 'dica': 'processar e analisar dados de forma rápida e escalável.'}, {'palavra': 'arduino', 'dica': 'desenvolver projetos eletrônicos interativos e automatizados.'}, {'palavra': 'raspberry', 'dica': 'criar dispositivos e projetos de iot (internet das coisas) com baixo custo.'}, {'palavra': 'linux', 'dica': 'utilizar e administrar sistemas operacionais de código aberto.'}, {'palavra': 'windows', 'dica': 'desenvolver aplicativos e sistemas operacionais para computadores pessoais.'}, {'palavra': 'macos', 'dica': 'desenvolver aplicativos para computadores apple e sistemas operacionais.'}, {'palavra': 'android', 'dica': 'desenvolver aplicativos para dispositivos móveis android.'}, {'palavra': 'ios', 'dica': 'desenvolver aplicativos para dispositivos móveis apple (iphone e ipad).'}, {'palavra': 'firebase', 'dica': 'desenvolver aplicativos móveis e web com uma plataforma de backend escalável.'}, {'palavra': 'aws', 'dica': 'implantar e gerenciar aplicativos em uma plataforma de nuvem líder de mercado.'}, {'palavra': 'azure', 'dica': 'desenvolver, implantar e gerenciar aplicativos em uma plataforma de nuvem da microsoft.'}, {'palavra': 'google', 'dica': 'utilizar serviços e produtos da google para desenvolvimento e negócios.'}, {'palavra': 'api', 'dica': 'integrar e comunicar sistemas e serviços de software.'}, {'palavra': 'rest', 'dica': 'criar e consumir apis web de maneira simples e eficiente.'}, {'palavra': 'graphql', 'dica': 'consultar e manipular dados de forma eficiente e flexível.'}, {'palavra': 'oauth', 'dica': 'implementar autenticação e autorização em aplicativos.'}]\n",
            "A palavra secreta tem 4 letras -> criar e consumir apis web de maneira simples e eficiente.\n",
            "A dica é -> criar e consumir apis web de maneira simples e eficiente.java\n",
            "Errou.. a palavra secreta era rest\n"
          ]
        }
      ]
    },
    {
      "cell_type": "code",
      "source": [],
      "metadata": {
        "id": "nSk6VbokT8H1"
      },
      "execution_count": 20,
      "outputs": []
    }
  ]
}